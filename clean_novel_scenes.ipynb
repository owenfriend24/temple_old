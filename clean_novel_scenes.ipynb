{
 "cells": [
  {
   "cell_type": "code",
   "execution_count": 1,
   "id": "2916528f",
   "metadata": {},
   "outputs": [],
   "source": [
    "import pandas as pd\n",
    "import numpy as np\n",
    "import matplotlib.pyplot as plt\n",
    "import seaborn as sns\n",
    "from pandas.api.types import CategoricalDtype\n",
    "import scipy.stats as stats"
   ]
  },
  {
   "cell_type": "markdown",
   "id": "977bf3ac",
   "metadata": {},
   "source": [
    "### clean data from PsychoPy and ouptut trial-level task data"
   ]
  },
  {
   "cell_type": "code",
   "execution_count": 2,
   "id": "c9e0d81b",
   "metadata": {},
   "outputs": [],
   "source": [
    "raw_path = '/Users/owenfriend/Documents/temple_local/prisma_TASK/data/'\n",
    "raw = pd.read_csv(raw_path + '10_1_novel_scenes.csv')"
   ]
  },
  {
   "cell_type": "code",
   "execution_count": 3,
   "id": "ed82cb80",
   "metadata": {},
   "outputs": [],
   "source": [
    "# user start and 5 from scanner\n",
    "scan_start = raw['five_received'][2]\n",
    "user_start = raw['seven_received'][1]"
   ]
  },
  {
   "cell_type": "code",
   "execution_count": 4,
   "id": "42034882",
   "metadata": {},
   "outputs": [],
   "source": [
    "clean = (raw.iloc[2:, [24, 25, 26, 27, 28, 33, 34, 35, 46, 47]]).dropna()\n",
    "clean = clean.reset_index().iloc[:, 1:]\n",
    "clean.insert(0, 'duration', 0, True)\n",
    "clean.insert(0, 'block', 0, True)\n",
    "clean = clean.rename(columns = {'block_type': 'category'})\n",
    "clean = clean[['onset', 'duration', 'offset', 'trial', 'category', 'block_num', 'response', 'correct', 'image', 'session', 'day']]"
   ]
  },
  {
   "cell_type": "code",
   "execution_count": 5,
   "id": "e4fd5ef8",
   "metadata": {},
   "outputs": [],
   "source": [
    "for index, row in clean.iterrows():\n",
    "    # adjust times to be relative to 5 from scanner, easier to do here than in PsychoPy\n",
    "    clean.at[index, 'onset'] -= scan_start\n",
    "    clean.at[index, 'offset'] -= scan_start\n",
    "    \n",
    "    clean.at[index, 'duration'] = clean['offset'][index] - clean['onset'][index]\n",
    "    clean.at[index, 'trial'] +=1\n",
    "    \n",
    "    clean.at[index, 'image'] = clean['image'][index].replace('.jpg', '')\n",
    "    \n"
   ]
  },
  {
   "cell_type": "code",
   "execution_count": 7,
   "id": "17469a4a",
   "metadata": {},
   "outputs": [],
   "source": [
    "run = clean.session.values[0]\n",
    "day = clean.day.values[0]\n",
    "clean.to_csv(f'/Users/owenfriend/Documents/temple_local/prisma_TASK/data/run{run}-day{day}_full_output.csv')"
   ]
  },
  {
   "cell_type": "markdown",
   "id": "b7337fbb",
   "metadata": {},
   "source": [
    "### output events file with one row for each block of either novel or repeat for univariate contrast"
   ]
  },
  {
   "cell_type": "code",
   "execution_count": 21,
   "id": "e01db597",
   "metadata": {},
   "outputs": [],
   "source": [
    "events = pd.DataFrame(columns = ['onset', 'duration', 'block_number', 'category'])\n",
    "for block in clean.block_num.unique():\n",
    "    block_frame = clean[clean['block_num'] == block].reset_index()\n",
    "    onset = block_frame['onset'][0]\n",
    "    offset = block_frame['offset'][7]\n",
    "    category = block_frame['category'][0]\n",
    "    duration = offset - onset\n",
    "    \n",
    "    events.loc[len(events)] = [onset, duration, block, category]\n",
    "    \n",
    "    "
   ]
  },
  {
   "cell_type": "code",
   "execution_count": 26,
   "id": "13a41760",
   "metadata": {},
   "outputs": [],
   "source": [
    "task = 'novelty'\n",
    "sub = '1'\n",
    "\n",
    "events.to_csv(f'/Users/owenfriend/Documents/temple_local/prisma_TASK/events_files/sub-{sub}_task-{task}_run-{run}_events.tsv', sep=\"\\t\")\n",
    "    "
   ]
  }
 ],
 "metadata": {
  "kernelspec": {
   "display_name": "Python 3 (ipykernel)",
   "language": "python",
   "name": "python3"
  },
  "language_info": {
   "codemirror_mode": {
    "name": "ipython",
    "version": 3
   },
   "file_extension": ".py",
   "mimetype": "text/x-python",
   "name": "python",
   "nbconvert_exporter": "python",
   "pygments_lexer": "ipython3",
   "version": "3.9.12"
  }
 },
 "nbformat": 4,
 "nbformat_minor": 5
}
